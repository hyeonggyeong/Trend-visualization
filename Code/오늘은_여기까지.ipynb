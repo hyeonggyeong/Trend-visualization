{
  "cells": [
    {
      "cell_type": "markdown",
      "metadata": {
        "id": "view-in-github",
        "colab_type": "text"
      },
      "source": [
        "<a href=\"https://colab.research.google.com/github/hyeonggyeong/Trend-visualization/blob/main/Code/%EC%98%A4%EB%8A%98%EC%9D%80_%EC%97%AC%EA%B8%B0%EA%B9%8C%EC%A7%80.ipynb\" target=\"_parent\"><img src=\"https://colab.research.google.com/assets/colab-badge.svg\" alt=\"Open In Colab\"/></a>"
      ]
    },
    {
      "cell_type": "markdown",
      "id": "cc9ace68",
      "metadata": {
        "id": "cc9ace68"
      },
      "source": [
        "# 1. 주제 소개"
      ]
    },
    {
      "cell_type": "markdown",
      "id": "60e0fe78",
      "metadata": {
        "id": "60e0fe78"
      },
      "source": [
        "## 한 2 3개 정도로 구분해서 인스타 크롤링이나 기사 크롤링으로 현재 취준생들이 많이 생각하는 부분을 기반으로 분석을 준비햇다 블라블라 스토리 텔링 하면 될거 같아여"
      ]
    },
    {
      "cell_type": "markdown",
      "id": "672033d9",
      "metadata": {
        "id": "672033d9"
      },
      "source": [
        "## 1-1. 선정 주제 소개"
      ]
    },
    {
      "cell_type": "markdown",
      "id": "c88ea46d",
      "metadata": {
        "id": "c88ea46d"
      },
      "source": [
        "### ☞ 구직자를 위한 기업 트랜드를 보여주기 위해 산업 분류, 산업 규모에 따른 총 급여, 총 근무 시간을 시각화 하여 돈보다는 워라벨, 가성비를 따지는 2030 세대를 위한 시각화를 진행하였다 블라블라------------------"
      ]
    },
    {
      "cell_type": "markdown",
      "id": "ac1df1d8",
      "metadata": {
        "id": "ac1df1d8"
      },
      "source": [
        "## 1-2. 주제 선정 이유"
      ]
    },
    {
      "cell_type": "markdown",
      "id": "580fb4af",
      "metadata": {
        "id": "580fb4af"
      },
      "source": [
        "### 우리는 이러한 크롤링? 등을 해봤는데 요즘 취업 준비생들은 이러한 것들을 주로 생각하더라 블라블라 ----- 따라서 우리는 이러한 시각화를 통해 가성비, 워라벨 등을 생각하는 취준생들이 참고할 수 있도록 하였다."
      ]
    },
    {
      "cell_type": "markdown",
      "id": "8403fe19",
      "metadata": {
        "id": "8403fe19"
      },
      "source": [
        "# 2. 분석에 필요한 패키지 import"
      ]
    },
    {
      "cell_type": "code",
      "execution_count": null,
      "id": "b50b1693",
      "metadata": {
        "id": "b50b1693"
      },
      "outputs": [],
      "source": [
        "import pandas as pd \n",
        "import numpy as np\n",
        "import matplotlib.pyplot as plt \n",
        "import seaborn as sns\n",
        "import warnings\n",
        "import matplotlib\n",
        "\n",
        "# 한글은 맑은 고딕을 이용\n",
        "matplotlib.rcParams['font.family'] = 'Malgun Gothic'\n",
        "matplotlib.rcParams['axes.unicode_minus'] = False\n",
        "\n",
        "# 경고메세지 무시\n",
        "warnings.filterwarnings(action='ignore')"
      ]
    },
    {
      "cell_type": "markdown",
      "id": "73be1b00",
      "metadata": {
        "id": "73be1b00"
      },
      "source": [
        "# 3. 데이터 준비"
      ]
    },
    {
      "cell_type": "markdown",
      "id": "434b7505",
      "metadata": {
        "id": "434b7505"
      },
      "source": [
        "## 3-1. 사용 데이터"
      ]
    },
    {
      "cell_type": "markdown",
      "id": "cd072893",
      "metadata": {
        "id": "cd072893"
      },
      "source": [
        "### ☞ 통계청에서 제공하는 @@ 데이터 사용"
      ]
    },
    {
      "cell_type": "code",
      "execution_count": null,
      "id": "2c856cbf",
      "metadata": {
        "id": "2c856cbf",
        "outputId": "9adf5737-7ab6-45c1-d8db-f0c573a71268"
      },
      "outputs": [
        {
          "data": {
            "text/html": [
              "<div>\n",
              "<style scoped>\n",
              "    .dataframe tbody tr th:only-of-type {\n",
              "        vertical-align: middle;\n",
              "    }\n",
              "\n",
              "    .dataframe tbody tr th {\n",
              "        vertical-align: top;\n",
              "    }\n",
              "\n",
              "    .dataframe thead th {\n",
              "        text-align: right;\n",
              "    }\n",
              "</style>\n",
              "<table border=\"1\" class=\"dataframe\">\n",
              "  <thead>\n",
              "    <tr style=\"text-align: right;\">\n",
              "      <th></th>\n",
              "      <th>산업분류</th>\n",
              "      <th>규모별</th>\n",
              "      <th>2020 1/2</th>\n",
              "      <th>2020 1/2.1</th>\n",
              "      <th>2020 1/2.2</th>\n",
              "      <th>2020 1/2.3</th>\n",
              "      <th>2020 1/2.4</th>\n",
              "      <th>2020 1/2.5</th>\n",
              "      <th>2020 2/2</th>\n",
              "      <th>2020 2/2.1</th>\n",
              "      <th>2020 2/2.2</th>\n",
              "      <th>2020 2/2.3</th>\n",
              "      <th>2020 2/2.4</th>\n",
              "      <th>2020 2/2.5</th>\n",
              "      <th>2021 1/2</th>\n",
              "      <th>2021 1/2.1</th>\n",
              "      <th>2021 1/2.2</th>\n",
              "      <th>2021 1/2.3</th>\n",
              "      <th>2021 1/2.4</th>\n",
              "      <th>2021 1/2.5</th>\n",
              "    </tr>\n",
              "  </thead>\n",
              "  <tbody>\n",
              "    <tr>\n",
              "      <th>0</th>\n",
              "      <td>산업분류</td>\n",
              "      <td>규모별</td>\n",
              "      <td>상용총근로시간 (시간)</td>\n",
              "      <td>상용소정실근로시간 (시간)</td>\n",
              "      <td>상용초과근로시간 (시간)</td>\n",
              "      <td>상용정액급여 (원)</td>\n",
              "      <td>상용초과급여 (원)</td>\n",
              "      <td>상용특별급여 (원)</td>\n",
              "      <td>상용총근로시간 (시간)</td>\n",
              "      <td>상용소정실근로시간 (시간)</td>\n",
              "      <td>상용초과근로시간 (시간)</td>\n",
              "      <td>상용정액급여 (원)</td>\n",
              "      <td>상용초과급여 (원)</td>\n",
              "      <td>상용특별급여 (원)</td>\n",
              "      <td>상용총근로시간 (시간)</td>\n",
              "      <td>상용소정실근로시간 (시간)</td>\n",
              "      <td>상용초과근로시간 (시간)</td>\n",
              "      <td>상용정액급여 (원)</td>\n",
              "      <td>상용초과급여 (원)</td>\n",
              "      <td>상용특별급여 (원)</td>\n",
              "    </tr>\n",
              "    <tr>\n",
              "      <th>1</th>\n",
              "      <td>석탄, 원유 및 천연가스 광업</td>\n",
              "      <td>5~9인</td>\n",
              "      <td>...</td>\n",
              "      <td>...</td>\n",
              "      <td>...</td>\n",
              "      <td>...</td>\n",
              "      <td>...</td>\n",
              "      <td>...</td>\n",
              "      <td>...</td>\n",
              "      <td>...</td>\n",
              "      <td>...</td>\n",
              "      <td>...</td>\n",
              "      <td>...</td>\n",
              "      <td>...</td>\n",
              "      <td>...</td>\n",
              "      <td>...</td>\n",
              "      <td>...</td>\n",
              "      <td>...</td>\n",
              "      <td>...</td>\n",
              "      <td>...</td>\n",
              "    </tr>\n",
              "    <tr>\n",
              "      <th>2</th>\n",
              "      <td>석탄, 원유 및 천연가스 광업</td>\n",
              "      <td>10~29인</td>\n",
              "      <td>...</td>\n",
              "      <td>...</td>\n",
              "      <td>...</td>\n",
              "      <td>...</td>\n",
              "      <td>...</td>\n",
              "      <td>...</td>\n",
              "      <td>...</td>\n",
              "      <td>...</td>\n",
              "      <td>...</td>\n",
              "      <td>...</td>\n",
              "      <td>...</td>\n",
              "      <td>...</td>\n",
              "      <td>...</td>\n",
              "      <td>...</td>\n",
              "      <td>...</td>\n",
              "      <td>...</td>\n",
              "      <td>...</td>\n",
              "      <td>...</td>\n",
              "    </tr>\n",
              "    <tr>\n",
              "      <th>3</th>\n",
              "      <td>석탄, 원유 및 천연가스 광업</td>\n",
              "      <td>30~99인</td>\n",
              "      <td>175.1</td>\n",
              "      <td>160.5</td>\n",
              "      <td>14.6</td>\n",
              "      <td>4649736</td>\n",
              "      <td>504809</td>\n",
              "      <td>736253</td>\n",
              "      <td>176.9</td>\n",
              "      <td>161.8</td>\n",
              "      <td>15.1</td>\n",
              "      <td>4505963</td>\n",
              "      <td>563020</td>\n",
              "      <td>947040</td>\n",
              "      <td>175.1</td>\n",
              "      <td>159.6</td>\n",
              "      <td>15.4</td>\n",
              "      <td>4754311</td>\n",
              "      <td>578219</td>\n",
              "      <td>675995</td>\n",
              "    </tr>\n",
              "  </tbody>\n",
              "</table>\n",
              "</div>"
            ],
            "text/plain": [
              "               산업분류     규모별      2020 1/2      2020 1/2.1     2020 1/2.2  \\\n",
              "0              산업분류     규모별  상용총근로시간 (시간)  상용소정실근로시간 (시간)  상용초과근로시간 (시간)   \n",
              "1  석탄, 원유 및 천연가스 광업    5~9인           ...             ...            ...   \n",
              "2  석탄, 원유 및 천연가스 광업  10~29인           ...             ...            ...   \n",
              "3  석탄, 원유 및 천연가스 광업  30~99인         175.1           160.5           14.6   \n",
              "\n",
              "   2020 1/2.3  2020 1/2.4  2020 1/2.5      2020 2/2      2020 2/2.1  \\\n",
              "0  상용정액급여 (원)  상용초과급여 (원)  상용특별급여 (원)  상용총근로시간 (시간)  상용소정실근로시간 (시간)   \n",
              "1         ...         ...         ...           ...             ...   \n",
              "2         ...         ...         ...           ...             ...   \n",
              "3     4649736      504809      736253         176.9           161.8   \n",
              "\n",
              "      2020 2/2.2  2020 2/2.3  2020 2/2.4  2020 2/2.5      2021 1/2  \\\n",
              "0  상용초과근로시간 (시간)  상용정액급여 (원)  상용초과급여 (원)  상용특별급여 (원)  상용총근로시간 (시간)   \n",
              "1            ...         ...         ...         ...           ...   \n",
              "2            ...         ...         ...         ...           ...   \n",
              "3           15.1     4505963      563020      947040         175.1   \n",
              "\n",
              "       2021 1/2.1     2021 1/2.2  2021 1/2.3  2021 1/2.4  2021 1/2.5  \n",
              "0  상용소정실근로시간 (시간)  상용초과근로시간 (시간)  상용정액급여 (원)  상용초과급여 (원)  상용특별급여 (원)  \n",
              "1             ...            ...         ...         ...         ...  \n",
              "2             ...            ...         ...         ...         ...  \n",
              "3           159.6           15.4     4754311      578219      675995  "
            ]
          },
          "execution_count": 2,
          "metadata": {},
          "output_type": "execute_result"
        }
      ],
      "source": [
        "df = pd.read_csv('https://github.com/hyeonggyeong/Trend-visualization/raw/main/Datasets/2_2_%EC%9E%84%EA%B8%88%EA%B3%BC%EA%B7%BC%EB%A1%9C(3%EB%B6%84%EA%B8%B0).csv',\n",
        "                 encoding = 'CP949')\n",
        "df.head(4)\n",
        "\n",
        "# 나중에 데이터에 대한 설명을 해줘야 함 "
      ]
    },
    {
      "cell_type": "markdown",
      "id": "893100a4",
      "metadata": {
        "id": "893100a4"
      },
      "source": [
        "## 3-2. 데이터 정제"
      ]
    },
    {
      "cell_type": "markdown",
      "id": "37c631c3",
      "metadata": {
        "id": "37c631c3"
      },
      "source": [
        "### ☞ 데이터를 분석하기 위한 전처리 과정으로 필요에 따라 데이터 및 컬럼을 삭제, 추가, 변경"
      ]
    },
    {
      "cell_type": "code",
      "execution_count": null,
      "id": "56678d2d",
      "metadata": {
        "id": "56678d2d"
      },
      "outputs": [],
      "source": [
        "# 존재하지 않는 데이터가 ... 으로 되어있어서 nan으로 바꿈 \n",
        "df[df == '...' ] = np.nan"
      ]
    },
    {
      "cell_type": "code",
      "execution_count": null,
      "id": "65cbf4a7",
      "metadata": {
        "id": "65cbf4a7",
        "outputId": "af27fe44-6d5d-45cf-b505-9966ada0473d"
      },
      "outputs": [
        {
          "data": {
            "text/plain": [
              "array(['산업분류', '규모별', '상용총근로시간 (시간)', '상용소정실근로시간 (시간)', '상용초과근로시간 (시간)',\n",
              "       '상용정액급여 (원)', '상용초과급여 (원)', '상용특별급여 (원)', '상용총근로시간 (시간)',\n",
              "       '상용소정실근로시간 (시간)', '상용초과근로시간 (시간)', '상용정액급여 (원)', '상용초과급여 (원)',\n",
              "       '상용특별급여 (원)', '상용총근로시간 (시간)', '상용소정실근로시간 (시간)', '상용초과근로시간 (시간)',\n",
              "       '상용정액급여 (원)', '상용초과급여 (원)', '상용특별급여 (원)'], dtype=object)"
            ]
          },
          "execution_count": 5,
          "metadata": {},
          "output_type": "execute_result"
        }
      ],
      "source": [
        "# 현재 데이터 프레임의 colums이 (년도 분기.데이터항목숫자)로 되어 있고 첫 행이 데이터항목숫자에 해당하는 항목의 내용이다.\n",
        "#  따라서 첫번째 행의 내용을 저장 한 후, 첫 행을 삭제\n",
        "\n",
        "new_col = df.loc[0].values\n",
        "df.drop([0],axis = 0, inplace=True)\n",
        "\n",
        "new_col"
      ]
    },
    {
      "cell_type": "code",
      "execution_count": null,
      "id": "16f8ca20",
      "metadata": {
        "id": "16f8ca20"
      },
      "outputs": [],
      "source": [
        "# 데이터 프레임의 숫자들이 다 str이기 때문에 float로 바꾼 후, 3 분기에 해당하는 내용들을 평균으로 만든다.\n",
        "\n",
        "list_1 = []\n",
        "list_2 = []\n",
        "list_3 = []\n",
        "list_4 = []\n",
        "list_5 = []\n",
        "list_6 = []\n",
        "\n",
        "\n",
        "for i in range(350):\n",
        "    list_1.append(np.mean([float(df.iloc[i,[2,8,14]][0]),float(df.iloc[i,[2,8,14]][1]),float(df.iloc[i,[2,8,14]][2])]))    \n",
        "    list_2.append(np.mean([float(df.iloc[i,[3,9,15]][0]),float(df.iloc[i,[3,9,15]][1]),float(df.iloc[i,[3,9,15]][2])]))\n",
        "    list_3.append(np.mean([float(df.iloc[i,[4,10,16]][0]),float(df.iloc[i,[4,10,16]][1]),float(df.iloc[i,[4,10,16]][2])]))\n",
        "    list_4.append(np.mean([float(df.iloc[i,[5,11,17]][0]),float(df.iloc[i,[5,11,17]][1]),float(df.iloc[i,[5,11,17]][2])]))\n",
        "    list_5.append(np.mean([float(df.iloc[i,[6,12,18]][0]),float(df.iloc[i,[6,12,18]][1]),float(df.iloc[i,[6,12,18]][2])]))\n",
        "    list_6.append(np.mean([float(df.iloc[i,[7,13,19]][0]),float(df.iloc[i,[7,13,19]][1]),float(df.iloc[i,[7,13,19]][2])]))"
      ]
    },
    {
      "cell_type": "code",
      "execution_count": null,
      "id": "72d406bb",
      "metadata": {
        "id": "72d406bb",
        "outputId": "a96fcc3e-932b-4b99-b463-8a57dc80b2d1"
      },
      "outputs": [
        {
          "data": {
            "text/html": [
              "<div>\n",
              "<style scoped>\n",
              "    .dataframe tbody tr th:only-of-type {\n",
              "        vertical-align: middle;\n",
              "    }\n",
              "\n",
              "    .dataframe tbody tr th {\n",
              "        vertical-align: top;\n",
              "    }\n",
              "\n",
              "    .dataframe thead th {\n",
              "        text-align: right;\n",
              "    }\n",
              "</style>\n",
              "<table border=\"1\" class=\"dataframe\">\n",
              "  <thead>\n",
              "    <tr style=\"text-align: right;\">\n",
              "      <th></th>\n",
              "      <th>산업분류</th>\n",
              "      <th>규모별</th>\n",
              "      <th>상용총근로시간</th>\n",
              "      <th>상용소정실근로시간</th>\n",
              "      <th>상용초과근로시간</th>\n",
              "      <th>상용정액급여</th>\n",
              "      <th>상용초과급여</th>\n",
              "      <th>상용특별급여</th>\n",
              "      <th>한달총급여</th>\n",
              "    </tr>\n",
              "  </thead>\n",
              "  <tbody>\n",
              "    <tr>\n",
              "      <th>190</th>\n",
              "      <td>도매 및 상품 중개업</td>\n",
              "      <td>300인이상</td>\n",
              "      <td>163.833333</td>\n",
              "      <td>156.300000</td>\n",
              "      <td>7.533333</td>\n",
              "      <td>4.819996e+06</td>\n",
              "      <td>247473.333333</td>\n",
              "      <td>1.208462e+06</td>\n",
              "      <td>6.275931e+06</td>\n",
              "    </tr>\n",
              "    <tr>\n",
              "      <th>240</th>\n",
              "      <td>방송업</td>\n",
              "      <td>300인이상</td>\n",
              "      <td>168.866667</td>\n",
              "      <td>159.033333</td>\n",
              "      <td>9.833333</td>\n",
              "      <td>5.444417e+06</td>\n",
              "      <td>322660.000000</td>\n",
              "      <td>1.313953e+06</td>\n",
              "      <td>7.081031e+06</td>\n",
              "    </tr>\n",
              "    <tr>\n",
              "      <th>286</th>\n",
              "      <td>건축 기술, 엔지니어링 및 기타 과학기술 서비스업</td>\n",
              "      <td>5~9인</td>\n",
              "      <td>161.533333</td>\n",
              "      <td>160.700000</td>\n",
              "      <td>0.833333</td>\n",
              "      <td>3.458919e+06</td>\n",
              "      <td>48860.000000</td>\n",
              "      <td>1.620017e+05</td>\n",
              "      <td>3.669780e+06</td>\n",
              "    </tr>\n",
              "    <tr>\n",
              "      <th>290</th>\n",
              "      <td>건축 기술, 엔지니어링 및 기타 과학기술 서비스업</td>\n",
              "      <td>300인이상</td>\n",
              "      <td>168.866667</td>\n",
              "      <td>157.733333</td>\n",
              "      <td>11.166667</td>\n",
              "      <td>4.360814e+06</td>\n",
              "      <td>425268.333333</td>\n",
              "      <td>5.654127e+05</td>\n",
              "      <td>5.351495e+06</td>\n",
              "    </tr>\n",
              "    <tr>\n",
              "      <th>206</th>\n",
              "      <td>항공 운송업</td>\n",
              "      <td>5~9인</td>\n",
              "      <td>145.133333</td>\n",
              "      <td>142.366667</td>\n",
              "      <td>2.733333</td>\n",
              "      <td>3.495291e+06</td>\n",
              "      <td>120418.666667</td>\n",
              "      <td>1.512423e+05</td>\n",
              "      <td>3.766952e+06</td>\n",
              "    </tr>\n",
              "  </tbody>\n",
              "</table>\n",
              "</div>"
            ],
            "text/plain": [
              "                            산업분류     규모별     상용총근로시간   상용소정실근로시간   상용초과근로시간  \\\n",
              "190                  도매 및 상품 중개업  300인이상  163.833333  156.300000   7.533333   \n",
              "240                          방송업  300인이상  168.866667  159.033333   9.833333   \n",
              "286  건축 기술, 엔지니어링 및 기타 과학기술 서비스업    5~9인  161.533333  160.700000   0.833333   \n",
              "290  건축 기술, 엔지니어링 및 기타 과학기술 서비스업  300인이상  168.866667  157.733333  11.166667   \n",
              "206                       항공 운송업    5~9인  145.133333  142.366667   2.733333   \n",
              "\n",
              "           상용정액급여         상용초과급여        상용특별급여         한달총급여  \n",
              "190  4.819996e+06  247473.333333  1.208462e+06  6.275931e+06  \n",
              "240  5.444417e+06  322660.000000  1.313953e+06  7.081031e+06  \n",
              "286  3.458919e+06   48860.000000  1.620017e+05  3.669780e+06  \n",
              "290  4.360814e+06  425268.333333  5.654127e+05  5.351495e+06  \n",
              "206  3.495291e+06  120418.666667  1.512423e+05  3.766952e+06  "
            ]
          },
          "execution_count": 8,
          "metadata": {},
          "output_type": "execute_result"
        }
      ],
      "source": [
        "# 데이터 프레임에 평균으로 통합된 값을 추가하고, 분기별로 나누어져 있던 값들을 싹다 없앤다.\n",
        "# 추가적으로 총급여를 추가한다.\n",
        "\n",
        "df['상용총근로시간']=list_1\n",
        "df['상용소정실근로시간']=list_2\n",
        "df['상용초과근로시간']=list_3\n",
        "df['상용정액급여']=list_4\n",
        "df['상용초과급여']=list_5\n",
        "df['상용특별급여']=list_6\n",
        "df.drop(df.columns[2:-6],axis=1, inplace = True)\n",
        "df['한달총급여'] = df['상용정액급여']+df['상용초과급여']+df['상용특별급여']\n",
        "df.sample(5)\n"
      ]
    },
    {
      "cell_type": "code",
      "execution_count": null,
      "id": "aad79818",
      "metadata": {
        "id": "aad79818",
        "outputId": "c29c30ca-8732-4806-8fb4-c4492d864da2"
      },
      "outputs": [
        {
          "data": {
            "text/html": [
              "<div>\n",
              "<style scoped>\n",
              "    .dataframe tbody tr th:only-of-type {\n",
              "        vertical-align: middle;\n",
              "    }\n",
              "\n",
              "    .dataframe tbody tr th {\n",
              "        vertical-align: top;\n",
              "    }\n",
              "\n",
              "    .dataframe thead th {\n",
              "        text-align: right;\n",
              "    }\n",
              "</style>\n",
              "<table border=\"1\" class=\"dataframe\">\n",
              "  <thead>\n",
              "    <tr style=\"text-align: right;\">\n",
              "      <th></th>\n",
              "      <th>상용총근로시간</th>\n",
              "      <th>상용소정실근로시간</th>\n",
              "      <th>상용초과근로시간</th>\n",
              "      <th>상용정액급여</th>\n",
              "      <th>상용초과급여</th>\n",
              "      <th>상용특별급여</th>\n",
              "      <th>한달총급여</th>\n",
              "    </tr>\n",
              "  </thead>\n",
              "  <tbody>\n",
              "    <tr>\n",
              "      <th>count</th>\n",
              "      <td>313.000000</td>\n",
              "      <td>313.000000</td>\n",
              "      <td>310.000000</td>\n",
              "      <td>3.130000e+02</td>\n",
              "      <td>3.100000e+02</td>\n",
              "      <td>3.110000e+02</td>\n",
              "      <td>3.080000e+02</td>\n",
              "    </tr>\n",
              "    <tr>\n",
              "      <th>mean</th>\n",
              "      <td>168.084452</td>\n",
              "      <td>157.209372</td>\n",
              "      <td>10.980323</td>\n",
              "      <td>3.415065e+06</td>\n",
              "      <td>2.684877e+05</td>\n",
              "      <td>5.749828e+05</td>\n",
              "      <td>4.260241e+06</td>\n",
              "    </tr>\n",
              "    <tr>\n",
              "      <th>std</th>\n",
              "      <td>12.918678</td>\n",
              "      <td>9.773900</td>\n",
              "      <td>8.576359</td>\n",
              "      <td>8.313654e+05</td>\n",
              "      <td>2.125245e+05</td>\n",
              "      <td>6.196647e+05</td>\n",
              "      <td>1.365327e+06</td>\n",
              "    </tr>\n",
              "    <tr>\n",
              "      <th>min</th>\n",
              "      <td>84.133333</td>\n",
              "      <td>81.233333</td>\n",
              "      <td>0.200000</td>\n",
              "      <td>1.261456e+06</td>\n",
              "      <td>5.428333e+03</td>\n",
              "      <td>1.491400e+04</td>\n",
              "      <td>1.569611e+06</td>\n",
              "    </tr>\n",
              "    <tr>\n",
              "      <th>25%</th>\n",
              "      <td>162.433333</td>\n",
              "      <td>154.733333</td>\n",
              "      <td>4.541667</td>\n",
              "      <td>2.843369e+06</td>\n",
              "      <td>1.100015e+05</td>\n",
              "      <td>1.566857e+05</td>\n",
              "      <td>3.277110e+06</td>\n",
              "    </tr>\n",
              "    <tr>\n",
              "      <th>50%</th>\n",
              "      <td>167.800000</td>\n",
              "      <td>158.666667</td>\n",
              "      <td>8.566667</td>\n",
              "      <td>3.291906e+06</td>\n",
              "      <td>2.041810e+05</td>\n",
              "      <td>3.245663e+05</td>\n",
              "      <td>3.961164e+06</td>\n",
              "    </tr>\n",
              "    <tr>\n",
              "      <th>75%</th>\n",
              "      <td>174.733333</td>\n",
              "      <td>161.533333</td>\n",
              "      <td>16.000000</td>\n",
              "      <td>3.917102e+06</td>\n",
              "      <td>3.849754e+05</td>\n",
              "      <td>7.698727e+05</td>\n",
              "      <td>4.974976e+06</td>\n",
              "    </tr>\n",
              "    <tr>\n",
              "      <th>max</th>\n",
              "      <td>212.866667</td>\n",
              "      <td>184.233333</td>\n",
              "      <td>49.200000</td>\n",
              "      <td>6.254246e+06</td>\n",
              "      <td>1.025567e+06</td>\n",
              "      <td>3.609147e+06</td>\n",
              "      <td>9.126376e+06</td>\n",
              "    </tr>\n",
              "  </tbody>\n",
              "</table>\n",
              "</div>"
            ],
            "text/plain": [
              "          상용총근로시간   상용소정실근로시간    상용초과근로시간        상용정액급여        상용초과급여  \\\n",
              "count  313.000000  313.000000  310.000000  3.130000e+02  3.100000e+02   \n",
              "mean   168.084452  157.209372   10.980323  3.415065e+06  2.684877e+05   \n",
              "std     12.918678    9.773900    8.576359  8.313654e+05  2.125245e+05   \n",
              "min     84.133333   81.233333    0.200000  1.261456e+06  5.428333e+03   \n",
              "25%    162.433333  154.733333    4.541667  2.843369e+06  1.100015e+05   \n",
              "50%    167.800000  158.666667    8.566667  3.291906e+06  2.041810e+05   \n",
              "75%    174.733333  161.533333   16.000000  3.917102e+06  3.849754e+05   \n",
              "max    212.866667  184.233333   49.200000  6.254246e+06  1.025567e+06   \n",
              "\n",
              "             상용특별급여         한달총급여  \n",
              "count  3.110000e+02  3.080000e+02  \n",
              "mean   5.749828e+05  4.260241e+06  \n",
              "std    6.196647e+05  1.365327e+06  \n",
              "min    1.491400e+04  1.569611e+06  \n",
              "25%    1.566857e+05  3.277110e+06  \n",
              "50%    3.245663e+05  3.961164e+06  \n",
              "75%    7.698727e+05  4.974976e+06  \n",
              "max    3.609147e+06  9.126376e+06  "
            ]
          },
          "execution_count": 18,
          "metadata": {},
          "output_type": "execute_result"
        }
      ],
      "source": [
        "# 데이터 description \n",
        "# 밑의 description을 보면 급여 부분들의표준편차가 평균값과 비교했을 떄, 시간 부분들 보다 높음을 알 수 있다.\n",
        "# 이에 따라 급여 부분들은 편차가 크다고 생각했고, 근로시간 부분은 편차가 작다고 생각함\n",
        "# 실제 boxplot을 통해서 직관적으로 규모가 시간 혹은 급여에 영향을 끼치는 지 확인한 후 \n",
        "\n",
        "df.describe()"
      ]
    },
    {
      "cell_type": "markdown",
      "id": "b3b909ae",
      "metadata": {
        "id": "b3b909ae"
      },
      "source": [
        "# 한달에 얼마정도 받는가? 시각화"
      ]
    },
    {
      "cell_type": "markdown",
      "id": "c4a5d530",
      "metadata": {
        "id": "c4a5d530"
      },
      "source": [
        "# 4. 데이터 시각화"
      ]
    },
    {
      "cell_type": "markdown",
      "id": "9926b34b",
      "metadata": {
        "id": "9926b34b"
      },
      "source": [
        "## 4-1. 산업의 규모에 따른 총급여 분포 시각화"
      ]
    },
    {
      "cell_type": "markdown",
      "id": "29a41880",
      "metadata": {
        "id": "29a41880"
      },
      "source": [
        "### ☞ 산점도(??)를 활용한 시각화"
      ]
    },
    {
      "cell_type": "code",
      "execution_count": null,
      "id": "dd1881aa",
      "metadata": {
        "id": "dd1881aa",
        "outputId": "bd6d0712-c4e7-433a-8a44-3e0f86a91188"
      },
      "outputs": [
        {
          "data": {
            "text/plain": [
              "<seaborn.axisgrid.FacetGrid at 0x1fc88199cd0>"
            ]
          },
          "execution_count": 16,
          "metadata": {},
          "output_type": "execute_result"
        },
        {
          "data": {
            "image/png": "[encoded data removed]",
            "text/plain": [
              "<Figure size 360x360 with 1 Axes>"
            ]
          },
          "metadata": {
            "needs_background": "light"
          },
          "output_type": "display_data"
        }
      ],
      "source": [
        "# 규모가 한달 총급여에 유의미한 영향을 끼치는지 데이터 포인트를 직접적으로 확인하기 위하여 시행 \n",
        "sns.catplot(data = df, x='규모별',y='한달총급여')"
      ]
    },
    {
      "cell_type": "markdown",
      "id": "f2707d26",
      "metadata": {
        "id": "f2707d26"
      },
      "source": [
        "#### 설명 적기 ----------------------"
      ]
    },
    {
      "cell_type": "markdown",
      "id": "33aa64a7",
      "metadata": {
        "id": "33aa64a7"
      },
      "source": [
        "### ☞ boxplot을 활용한 시각화"
      ]
    },
    {
      "cell_type": "code",
      "execution_count": null,
      "id": "852e945f",
      "metadata": {
        "id": "852e945f",
        "outputId": "0dc5b59f-daa8-44be-9d17-97f343db113b"
      },
      "outputs": [
        {
          "data": {
            "text/plain": [
              "<seaborn.axisgrid.FacetGrid at 0x1fc93c20e80>"
            ]
          },
          "execution_count": 17,
          "metadata": {},
          "output_type": "execute_result"
        },
        {
          "data": {
            "image/png": "[encoded data removed]",
            "text/plain": [
              "<Figure size 360x360 with 1 Axes>"
            ]
          },
          "metadata": {
            "needs_background": "light"
          },
          "output_type": "display_data"
        }
      ],
      "source": [
        "# 규모가 한달 총급여에 영향을 끼치는지 확인하기 위하여 boxplot 개시\n",
        "# 밑의 그래프를 보면, 평균값이 규모가 커짐에 따라 증가하는 것을 알 수 있다.\n",
        "# 최대값을 보면 5~9인을 제외한 규모에서 증가하는 추세를 볼 수 있다.\n",
        "# 최소값의 경우 비교적 평준화된 값을 가지고 있음을 알 수 있다.\n",
        "\n",
        "\n",
        "sns.catplot(data = df, x='규모별',y='한달총급여', kind='box')"
      ]
    },
    {
      "cell_type": "markdown",
      "id": "3ede953b",
      "metadata": {
        "id": "3ede953b"
      },
      "source": [
        "#### 설명 적기--------------------------"
      ]
    },
    {
      "cell_type": "markdown",
      "id": "2cc4e299",
      "metadata": {
        "id": "2cc4e299"
      },
      "source": [
        "## 4-2. 산업분류와 규모로 멀티 인덱스를 생성하여 시각화 "
      ]
    },
    {
      "cell_type": "code",
      "execution_count": null,
      "id": "d2b1ddbb",
      "metadata": {
        "id": "d2b1ddbb"
      },
      "outputs": [],
      "source": [
        "# 시각화를 위하여 멀티 인덱스 생성\n",
        "df = df.set_index(['산업분류', '규모별'])"
      ]
    },
    {
      "cell_type": "code",
      "execution_count": null,
      "id": "3733f0a3",
      "metadata": {
        "id": "3733f0a3",
        "outputId": "faad80b5-a3f4-4aa5-81f6-b95b68e5fc88"
      },
      "outputs": [
        {
          "data": {
            "text/html": [
              "<div>\n",
              "<style scoped>\n",
              "    .dataframe tbody tr th:only-of-type {\n",
              "        vertical-align: middle;\n",
              "    }\n",
              "\n",
              "    .dataframe tbody tr th {\n",
              "        vertical-align: top;\n",
              "    }\n",
              "\n",
              "    .dataframe thead th {\n",
              "        text-align: right;\n",
              "    }\n",
              "</style>\n",
              "<table border=\"1\" class=\"dataframe\">\n",
              "  <thead>\n",
              "    <tr style=\"text-align: right;\">\n",
              "      <th></th>\n",
              "      <th>산업분류</th>\n",
              "      <th>5~9인</th>\n",
              "      <th>10~29인</th>\n",
              "      <th>30~99인</th>\n",
              "      <th>100~299인</th>\n",
              "      <th>300인이상</th>\n",
              "    </tr>\n",
              "  </thead>\n",
              "  <tbody>\n",
              "    <tr>\n",
              "      <th>0</th>\n",
              "      <td>석탄, 원유 및 천연가스 광업</td>\n",
              "      <td>NaN</td>\n",
              "      <td>NaN</td>\n",
              "      <td>5.971782e+06</td>\n",
              "      <td>NaN</td>\n",
              "      <td>NaN</td>\n",
              "    </tr>\n",
              "    <tr>\n",
              "      <th>1</th>\n",
              "      <td>금속 광업</td>\n",
              "      <td>NaN</td>\n",
              "      <td>NaN</td>\n",
              "      <td>NaN</td>\n",
              "      <td>NaN</td>\n",
              "      <td>NaN</td>\n",
              "    </tr>\n",
              "    <tr>\n",
              "      <th>2</th>\n",
              "      <td>비금속광물 광업; 연료용 제외</td>\n",
              "      <td>3.283856e+06</td>\n",
              "      <td>4.175075e+06</td>\n",
              "      <td>4.633530e+06</td>\n",
              "      <td>NaN</td>\n",
              "      <td>NaN</td>\n",
              "    </tr>\n",
              "    <tr>\n",
              "      <th>3</th>\n",
              "      <td>광업 지원 서비스업</td>\n",
              "      <td>NaN</td>\n",
              "      <td>NaN</td>\n",
              "      <td>NaN</td>\n",
              "      <td>NaN</td>\n",
              "      <td>NaN</td>\n",
              "    </tr>\n",
              "    <tr>\n",
              "      <th>4</th>\n",
              "      <td>식료품 제조업</td>\n",
              "      <td>2.867750e+06</td>\n",
              "      <td>2.738983e+06</td>\n",
              "      <td>3.246449e+06</td>\n",
              "      <td>3.695454e+06</td>\n",
              "      <td>3.964844e+06</td>\n",
              "    </tr>\n",
              "    <tr>\n",
              "      <th>...</th>\n",
              "      <td>...</td>\n",
              "      <td>...</td>\n",
              "      <td>...</td>\n",
              "      <td>...</td>\n",
              "      <td>...</td>\n",
              "      <td>...</td>\n",
              "    </tr>\n",
              "    <tr>\n",
              "      <th>65</th>\n",
              "      <td>창작, 예술 및 여가관련 서비스업</td>\n",
              "      <td>2.758701e+06</td>\n",
              "      <td>3.264937e+06</td>\n",
              "      <td>3.819273e+06</td>\n",
              "      <td>4.010440e+06</td>\n",
              "      <td>3.756962e+06</td>\n",
              "    </tr>\n",
              "    <tr>\n",
              "      <th>66</th>\n",
              "      <td>스포츠 및 오락관련 서비스업</td>\n",
              "      <td>2.392708e+06</td>\n",
              "      <td>3.086714e+06</td>\n",
              "      <td>3.766921e+06</td>\n",
              "      <td>3.813544e+06</td>\n",
              "      <td>4.375752e+06</td>\n",
              "    </tr>\n",
              "    <tr>\n",
              "      <th>67</th>\n",
              "      <td>협회 및 단체</td>\n",
              "      <td>2.543998e+06</td>\n",
              "      <td>3.214381e+06</td>\n",
              "      <td>3.548539e+06</td>\n",
              "      <td>4.946731e+06</td>\n",
              "      <td>4.978747e+06</td>\n",
              "    </tr>\n",
              "    <tr>\n",
              "      <th>68</th>\n",
              "      <td>개인 및 소비용품 수리업</td>\n",
              "      <td>2.772022e+06</td>\n",
              "      <td>3.422475e+06</td>\n",
              "      <td>3.759394e+06</td>\n",
              "      <td>6.037277e+06</td>\n",
              "      <td>NaN</td>\n",
              "    </tr>\n",
              "    <tr>\n",
              "      <th>69</th>\n",
              "      <td>기타 개인 서비스업</td>\n",
              "      <td>2.434518e+06</td>\n",
              "      <td>2.770544e+06</td>\n",
              "      <td>2.812260e+06</td>\n",
              "      <td>3.684115e+06</td>\n",
              "      <td>NaN</td>\n",
              "    </tr>\n",
              "  </tbody>\n",
              "</table>\n",
              "<p>70 rows × 6 columns</p>\n",
              "</div>"
            ],
            "text/plain": [
              "                  산업분류          5~9인        10~29인        30~99인  \\\n",
              "0     석탄, 원유 및 천연가스 광업           NaN           NaN  5.971782e+06   \n",
              "1                금속 광업           NaN           NaN           NaN   \n",
              "2     비금속광물 광업; 연료용 제외  3.283856e+06  4.175075e+06  4.633530e+06   \n",
              "3           광업 지원 서비스업           NaN           NaN           NaN   \n",
              "4              식료품 제조업  2.867750e+06  2.738983e+06  3.246449e+06   \n",
              "..                 ...           ...           ...           ...   \n",
              "65  창작, 예술 및 여가관련 서비스업  2.758701e+06  3.264937e+06  3.819273e+06   \n",
              "66     스포츠 및 오락관련 서비스업  2.392708e+06  3.086714e+06  3.766921e+06   \n",
              "67             협회 및 단체  2.543998e+06  3.214381e+06  3.548539e+06   \n",
              "68       개인 및 소비용품 수리업  2.772022e+06  3.422475e+06  3.759394e+06   \n",
              "69          기타 개인 서비스업  2.434518e+06  2.770544e+06  2.812260e+06   \n",
              "\n",
              "        100~299인        300인이상  \n",
              "0            NaN           NaN  \n",
              "1            NaN           NaN  \n",
              "2            NaN           NaN  \n",
              "3            NaN           NaN  \n",
              "4   3.695454e+06  3.964844e+06  \n",
              "..           ...           ...  \n",
              "65  4.010440e+06  3.756962e+06  \n",
              "66  3.813544e+06  4.375752e+06  \n",
              "67  4.946731e+06  4.978747e+06  \n",
              "68  6.037277e+06           NaN  \n",
              "69  3.684115e+06           NaN  \n",
              "\n",
              "[70 rows x 6 columns]"
            ]
          },
          "execution_count": 24,
          "metadata": {},
          "output_type": "execute_result"
        }
      ],
      "source": [
        "# 기존 데이터를 5개의 산업 규모로 나눔\n",
        "# 이 데이터는 차후 시간과 관련된 시각화 과정에도 이용할 것임 \n",
        "scale_1 = df.xs('5~9인',level = '규모별').reset_index()\n",
        "scale_2 = df.xs('10~29인',level = '규모별').reset_index()\n",
        "scale_3 = df.xs('30~99인',level = '규모별').reset_index()\n",
        "scale_4 = df.xs('100~299인',level = '규모별').reset_index()\n",
        "scale_5 = df.xs('300인이상',level = '규모별').reset_index()\n",
        "\n",
        "# 한달총급여와 관련된 시각화를 위하여 별도의 데이터 프레임을 생성 후 규모별 값들을 삽입\n",
        "month_pay =pd.DataFrame({'산업분류':scale_1.산업분류,\n",
        "                         '5~9인':scale_1.한달총급여,\n",
        "                         '10~29인':scale_2.한달총급여,\n",
        "                         '30~99인':scale_3.한달총급여,\n",
        "                         '100~299인':scale_4.한달총급여,\n",
        "                         '300인이상':scale_5.한달총급여\n",
        "                        })\n",
        "\n",
        "month_pay"
      ]
    },
    {
      "cell_type": "markdown",
      "id": "45001fbb",
      "metadata": {
        "id": "45001fbb"
      },
      "source": [
        "### ☞ 멀티 인덱스를 사용하여 같은 산업 분류에서 규모에 따른 총급여 차이 시각화"
      ]
    },
    {
      "cell_type": "code",
      "execution_count": null,
      "id": "9c1cf4b9",
      "metadata": {
        "id": "9c1cf4b9",
        "outputId": "a9f871cb-8cc0-4fda-f8b5-2dc5cf498a81"
      },
      "outputs": [
        {
          "data": {
            "image/png": "[encoded data removed]",
            "text/plain": [
              "<Figure size 432x1080 with 1 Axes>"
            ]
          },
          "metadata": {
            "needs_background": "light"
          },
          "output_type": "display_data"
        }
      ],
      "source": [
        "# 시각화 과정\n",
        "# 초기화\n",
        "f, ax = plt.subplots(figsize=(6, 15))\n",
        "\n",
        "# 정렬(규모가 클수록 한달총급여가 많을것이라 했기 떄문에 300인 이상 규모를 기준으로 내림차순)\n",
        "month_data = month_pay.sort_values(\"300인이상\", ascending=False)\n",
        "\n",
        "# 300인이상\n",
        "sns.barplot(x=\"300인이상\", y=\"산업분류\", data=month_data,\n",
        "            label=\"300인이상\", color=\"paleturquoise\")\n",
        "\n",
        "# 100~299인 사이\n",
        "sns.barplot(x=\"100~299인\", y=\"산업분류\", data=month_data,\n",
        "            label=\"100~299인\", color=\"aqua\")\n",
        "\n",
        "\n",
        "# 30~99인사이\n",
        "sns.barplot(x=\"30~99인\", y=\"산업분류\", data=month_data,\n",
        "            label=\"30~99인\", color=\"deepskyblue\")\n",
        "\n",
        "# 10~29인 사이\n",
        "sns.barplot(x=\"10~29인\", y=\"산업분류\", data=month_data,\n",
        "            label=\"10~29인\", color=\"dodgerblue\")\n",
        "\n",
        "# 5~9인 사이\n",
        "sns.barplot(x=\"5~9인\", y=\"산업분류\", data=month_data,\n",
        "            label=\"5~9인\", color=\"darkblue\")\n",
        "\n",
        "# Add a legend and informative axis label\n",
        "ax.legend(ncol=2, loc=\"lower right\", frameon=True)\n",
        "ax.set(xlim=(0,9500000), ylabel=\"\",\n",
        "       xlabel=\"한달총급여(백만)\")\n",
        "sns.despine(left=True, bottom=True)"
      ]
    },
    {
      "cell_type": "markdown",
      "id": "13c6b62c",
      "metadata": {
        "id": "13c6b62c"
      },
      "source": [
        "#### 설명 적기 ----------------------------"
      ]
    },
    {
      "cell_type": "markdown",
      "id": "beb10de2",
      "metadata": {
        "id": "beb10de2"
      },
      "source": [
        "# 5. 일주일 동안의 총 근무시간 분포 시각화"
      ]
    },
    {
      "cell_type": "markdown",
      "id": "8aaaed88",
      "metadata": {
        "id": "8aaaed88"
      },
      "source": [
        "## 5-1. 산업 규모에 따른 일주일 동안의 총 근무시간 분포 시각화"
      ]
    },
    {
      "cell_type": "code",
      "execution_count": null,
      "id": "a32016d9",
      "metadata": {
        "id": "a32016d9"
      },
      "outputs": [],
      "source": [
        "# 멀티인덱스 해제\n",
        "df = df.reset_index()"
      ]
    },
    {
      "cell_type": "markdown",
      "id": "98bb2b8d",
      "metadata": {
        "id": "98bb2b8d"
      },
      "source": [
        "### ☞ 산점도(??)를 활용한 시각화"
      ]
    },
    {
      "cell_type": "code",
      "execution_count": null,
      "id": "bb287bdf",
      "metadata": {
        "id": "bb287bdf",
        "outputId": "ec672d6e-e8a6-4ad1-9227-fa2e4ee68f0d"
      },
      "outputs": [
        {
          "data": {
            "text/plain": [
              "<seaborn.axisgrid.FacetGrid at 0x1fc94b32df0>"
            ]
          },
          "execution_count": 32,
          "metadata": {},
          "output_type": "execute_result"
        },
        {
          "data": {
            "image/png": "[encoded data removed]",
            "text/plain": [
              "<Figure size 360x360 with 1 Axes>"
            ]
          },
          "metadata": {
            "needs_background": "light"
          },
          "output_type": "display_data"
        }
      ],
      "source": [
        "# 규모가 한달 총 근로 시간에 유의미한 영향을 끼치는지 데이터 포인트를 직접적으로 확인하기 위하여 시행 \n",
        "\n",
        "sns.catplot(data = df, x='규모별',y='상용총근로시간')"
      ]
    },
    {
      "cell_type": "markdown",
      "id": "6bd2a44d",
      "metadata": {
        "id": "6bd2a44d"
      },
      "source": [
        "#### 설명 적기 ------------------------"
      ]
    },
    {
      "cell_type": "markdown",
      "id": "4931bef2",
      "metadata": {
        "id": "4931bef2"
      },
      "source": [
        "### ☞ boxplot을 활용한 시각화"
      ]
    },
    {
      "cell_type": "code",
      "execution_count": null,
      "id": "c12f9644",
      "metadata": {
        "id": "c12f9644",
        "outputId": "2258ad50-9f35-4536-d7c6-43dbd84228ae"
      },
      "outputs": [
        {
          "data": {
            "text/plain": [
              "<seaborn.axisgrid.FacetGrid at 0x1fc945f2250>"
            ]
          },
          "execution_count": 33,
          "metadata": {},
          "output_type": "execute_result"
        },
        {
          "data": {
            "image/png": "[encoded data removed]",
            "text/plain": [
              "<Figure size 360x360 with 1 Axes>"
            ]
          },
          "metadata": {
            "needs_background": "light"
          },
          "output_type": "display_data"
        }
      ],
      "source": [
        "# 박스플롯 설명!!\n",
        "# 그냥 비슷하다!! 유의미한 결과가 없을 것 같다!!로 가자 \n",
        "# 규모가 별 영향을 안끼치는 거 같은 경우 앞서 했던 박스플롯 이용하면 개떡같이 나와서 안된다. 등등 ....\n",
        "\n",
        "\n",
        "sns.catplot(data = df, x='규모별',y='상용총근로시간', kind='box')"
      ]
    },
    {
      "cell_type": "markdown",
      "id": "4ad13e73",
      "metadata": {
        "id": "4ad13e73"
      },
      "source": [
        "#### 설명 적기 -------------------"
      ]
    },
    {
      "cell_type": "markdown",
      "id": "c52af407",
      "metadata": {
        "id": "c52af407"
      },
      "source": [
        "## 5-2. 산업분류와 규모로 멀티 인덱스를 생성하여 시각화 "
      ]
    },
    {
      "cell_type": "code",
      "execution_count": null,
      "id": "ff3e35cb",
      "metadata": {
        "id": "ff3e35cb"
      },
      "outputs": [],
      "source": [
        "# 시각화를 위하여 멀티 인덱스 생성\n",
        "df = df.set_index(['산업분류', '규모별'])"
      ]
    },
    {
      "cell_type": "code",
      "execution_count": null,
      "id": "9592eff4",
      "metadata": {
        "id": "9592eff4",
        "outputId": "6b19c7bb-d9b5-46c1-99d6-e6d8f287d002"
      },
      "outputs": [
        {
          "data": {
            "text/html": [
              "<div>\n",
              "<style scoped>\n",
              "    .dataframe tbody tr th:only-of-type {\n",
              "        vertical-align: middle;\n",
              "    }\n",
              "\n",
              "    .dataframe tbody tr th {\n",
              "        vertical-align: top;\n",
              "    }\n",
              "\n",
              "    .dataframe thead th {\n",
              "        text-align: right;\n",
              "    }\n",
              "</style>\n",
              "<table border=\"1\" class=\"dataframe\">\n",
              "  <thead>\n",
              "    <tr style=\"text-align: right;\">\n",
              "      <th></th>\n",
              "      <th>산업분류</th>\n",
              "      <th>5~9인</th>\n",
              "      <th>10~29인</th>\n",
              "      <th>30~99인</th>\n",
              "      <th>100~299인</th>\n",
              "      <th>300인이상</th>\n",
              "    </tr>\n",
              "  </thead>\n",
              "  <tbody>\n",
              "    <tr>\n",
              "      <th>0</th>\n",
              "      <td>석탄, 원유 및 천연가스 광업</td>\n",
              "      <td>NaN</td>\n",
              "      <td>NaN</td>\n",
              "      <td>175.700000</td>\n",
              "      <td>NaN</td>\n",
              "      <td>NaN</td>\n",
              "    </tr>\n",
              "    <tr>\n",
              "      <th>1</th>\n",
              "      <td>금속 광업</td>\n",
              "      <td>NaN</td>\n",
              "      <td>NaN</td>\n",
              "      <td>NaN</td>\n",
              "      <td>NaN</td>\n",
              "      <td>NaN</td>\n",
              "    </tr>\n",
              "    <tr>\n",
              "      <th>2</th>\n",
              "      <td>비금속광물 광업; 연료용 제외</td>\n",
              "      <td>181.800000</td>\n",
              "      <td>199.400000</td>\n",
              "      <td>200.166667</td>\n",
              "      <td>NaN</td>\n",
              "      <td>NaN</td>\n",
              "    </tr>\n",
              "    <tr>\n",
              "      <th>3</th>\n",
              "      <td>광업 지원 서비스업</td>\n",
              "      <td>NaN</td>\n",
              "      <td>NaN</td>\n",
              "      <td>NaN</td>\n",
              "      <td>NaN</td>\n",
              "      <td>NaN</td>\n",
              "    </tr>\n",
              "    <tr>\n",
              "      <th>4</th>\n",
              "      <td>식료품 제조업</td>\n",
              "      <td>164.700000</td>\n",
              "      <td>169.300000</td>\n",
              "      <td>175.333333</td>\n",
              "      <td>192.433333</td>\n",
              "      <td>195.433333</td>\n",
              "    </tr>\n",
              "    <tr>\n",
              "      <th>...</th>\n",
              "      <td>...</td>\n",
              "      <td>...</td>\n",
              "      <td>...</td>\n",
              "      <td>...</td>\n",
              "      <td>...</td>\n",
              "      <td>...</td>\n",
              "    </tr>\n",
              "    <tr>\n",
              "      <th>65</th>\n",
              "      <td>창작, 예술 및 여가관련 서비스업</td>\n",
              "      <td>157.800000</td>\n",
              "      <td>166.433333</td>\n",
              "      <td>161.666667</td>\n",
              "      <td>157.200000</td>\n",
              "      <td>161.933333</td>\n",
              "    </tr>\n",
              "    <tr>\n",
              "      <th>66</th>\n",
              "      <td>스포츠 및 오락관련 서비스업</td>\n",
              "      <td>145.200000</td>\n",
              "      <td>162.866667</td>\n",
              "      <td>173.400000</td>\n",
              "      <td>161.266667</td>\n",
              "      <td>132.300000</td>\n",
              "    </tr>\n",
              "    <tr>\n",
              "      <th>67</th>\n",
              "      <td>협회 및 단체</td>\n",
              "      <td>167.066667</td>\n",
              "      <td>160.633333</td>\n",
              "      <td>162.966667</td>\n",
              "      <td>162.166667</td>\n",
              "      <td>152.266667</td>\n",
              "    </tr>\n",
              "    <tr>\n",
              "      <th>68</th>\n",
              "      <td>개인 및 소비용품 수리업</td>\n",
              "      <td>173.633333</td>\n",
              "      <td>175.066667</td>\n",
              "      <td>171.200000</td>\n",
              "      <td>161.233333</td>\n",
              "      <td>NaN</td>\n",
              "    </tr>\n",
              "    <tr>\n",
              "      <th>69</th>\n",
              "      <td>기타 개인 서비스업</td>\n",
              "      <td>164.066667</td>\n",
              "      <td>171.100000</td>\n",
              "      <td>168.400000</td>\n",
              "      <td>167.533333</td>\n",
              "      <td>NaN</td>\n",
              "    </tr>\n",
              "  </tbody>\n",
              "</table>\n",
              "<p>70 rows × 6 columns</p>\n",
              "</div>"
            ],
            "text/plain": [
              "                  산업분류        5~9인      10~29인      30~99인    100~299인  \\\n",
              "0     석탄, 원유 및 천연가스 광업         NaN         NaN  175.700000         NaN   \n",
              "1                금속 광업         NaN         NaN         NaN         NaN   \n",
              "2     비금속광물 광업; 연료용 제외  181.800000  199.400000  200.166667         NaN   \n",
              "3           광업 지원 서비스업         NaN         NaN         NaN         NaN   \n",
              "4              식료품 제조업  164.700000  169.300000  175.333333  192.433333   \n",
              "..                 ...         ...         ...         ...         ...   \n",
              "65  창작, 예술 및 여가관련 서비스업  157.800000  166.433333  161.666667  157.200000   \n",
              "66     스포츠 및 오락관련 서비스업  145.200000  162.866667  173.400000  161.266667   \n",
              "67             협회 및 단체  167.066667  160.633333  162.966667  162.166667   \n",
              "68       개인 및 소비용품 수리업  173.633333  175.066667  171.200000  161.233333   \n",
              "69          기타 개인 서비스업  164.066667  171.100000  168.400000  167.533333   \n",
              "\n",
              "        300인이상  \n",
              "0          NaN  \n",
              "1          NaN  \n",
              "2          NaN  \n",
              "3          NaN  \n",
              "4   195.433333  \n",
              "..         ...  \n",
              "65  161.933333  \n",
              "66  132.300000  \n",
              "67  152.266667  \n",
              "68         NaN  \n",
              "69         NaN  \n",
              "\n",
              "[70 rows x 6 columns]"
            ]
          },
          "execution_count": 37,
          "metadata": {},
          "output_type": "execute_result"
        }
      ],
      "source": [
        "# 한달총급여와 관련된 시각화를 위하여 별도의 데이터 프레임을 생성 후 규모별 값들을 삽입\n",
        "month_work =pd.DataFrame({'산업분류':scale_1.산업분류,\n",
        "                         '5~9인':scale_1.상용총근로시간,\n",
        "                         '10~29인':scale_2.상용총근로시간,\n",
        "                         '30~99인':scale_3.상용총근로시간,\n",
        "                         '100~299인':scale_4.상용총근로시간,\n",
        "                         '300인이상':scale_5.상용총근로시간\n",
        "                        })\n",
        "\n",
        "month_work"
      ]
    },
    {
      "cell_type": "markdown",
      "id": "179dd3e9",
      "metadata": {
        "id": "179dd3e9"
      },
      "source": [
        "### ☞ 멀티 인덱스를 사용하여 같은 산업 분류에서 규모에 따른 총급여 차이 시각화"
      ]
    },
    {
      "cell_type": "code",
      "execution_count": null,
      "id": "489d2e2a",
      "metadata": {
        "id": "489d2e2a",
        "outputId": "4f14c066-0e39-49e0-c7f1-6209192b41f9"
      },
      "outputs": [
        {
          "data": {
            "image/png": "[encoded data removed]",
            "text/plain": [
              "<Figure size 432x1080 with 1 Axes>"
            ]
          },
          "metadata": {
            "needs_background": "light"
          },
          "output_type": "display_data"
        }
      ],
      "source": [
        "# 이거는 그냥 심심해서 해본거임 실제로 어느정도 차이가날까 생각해서 대부분이 거의 차이 없음 \n",
        "# 이거는 최종 시각화에 포함 x \n",
        "\n",
        "# 시각화 과정\n",
        "# 초기화\n",
        "f, ax = plt.subplots(figsize=(6, 15))\n",
        "\n",
        "# 정렬(규모가 클수록 한달총급여가 많을것이라 했기 떄문에 300인 이상 규모를 기준으로 내림차순)\n",
        "work_data = month_work.sort_values(\"300인이상\", ascending=False)\n",
        "\n",
        "# 300인이상\n",
        "sns.barplot(x=\"300인이상\", y=\"산업분류\", data=work_data,\n",
        "            label=\"300인이상\", color=\"paleturquoise\")\n",
        "\n",
        "# 100~299인 사이\n",
        "sns.barplot(x=\"100~299인\", y=\"산업분류\", data=work_data,\n",
        "            label=\"100~299인\", color=\"aqua\")\n",
        "\n",
        "\n",
        "# 30~99인사이\n",
        "sns.barplot(x=\"30~99인\", y=\"산업분류\", data=work_data,\n",
        "            label=\"30~99인\", color=\"deepskyblue\")\n",
        "\n",
        "# 10~29인 사이\n",
        "sns.barplot(x=\"10~29인\", y=\"산업분류\", data=work_data,\n",
        "            label=\"10~29인\", color=\"dodgerblue\")\n",
        "\n",
        "# 5~9인 사이\n",
        "sns.barplot(x=\"5~9인\", y=\"산업분류\", data=work_data,\n",
        "            label=\"5~9인\", color=\"darkblue\")\n",
        "\n",
        "# Add a legend and informative axis label\n",
        "ax.legend(ncol=2, loc=\"lower right\", frameon=True)\n",
        "ax.set(xlim=(0,220), ylabel=\"\",\n",
        "       xlabel=\"한달근로시간\")\n",
        "sns.despine(left=True, bottom=True)"
      ]
    },
    {
      "cell_type": "markdown",
      "id": "c4c0fa5c",
      "metadata": {
        "id": "c4c0fa5c"
      },
      "source": [
        "#### 설명 적기 ---------------------------------"
      ]
    },
    {
      "cell_type": "code",
      "execution_count": null,
      "id": "10ec35dc",
      "metadata": {
        "id": "10ec35dc"
      },
      "outputs": [],
      "source": [
        "month_work['최대'] = month_work.max(axis=1)\n",
        "month_work['최소'] = month_work.min(axis=1)\n",
        "month_work['대소차이'] = month_work['최대']- month_work['최소']"
      ]
    },
    {
      "cell_type": "code",
      "execution_count": null,
      "id": "5c4c0090",
      "metadata": {
        "id": "5c4c0090",
        "outputId": "07af7d34-998f-4341-c39a-cfc060b5aa59"
      },
      "outputs": [
        {
          "data": {
            "text/plain": [
              "<seaborn.axisgrid.FacetGrid at 0x1fc93c206d0>"
            ]
          },
          "execution_count": 69,
          "metadata": {},
          "output_type": "execute_result"
        },
        {
          "data": {
            "image/png": "[encoded data removed]",
            "text/plain": [
              "<Figure size 360x360 with 1 Axes>"
            ]
          },
          "metadata": {
            "needs_background": "light"
          },
          "output_type": "display_data"
        }
      ],
      "source": [
        "sns.catplot(data = month_work, x='산업분류',y='대소차이')"
      ]
    },
    {
      "cell_type": "code",
      "execution_count": null,
      "id": "b629e39c",
      "metadata": {
        "id": "b629e39c",
        "outputId": "9dac8e36-45da-47a3-945d-43fef1dfc2fe"
      },
      "outputs": [
        {
          "data": {
            "text/plain": [
              "<AxesSubplot:>"
            ]
          },
          "execution_count": 72,
          "metadata": {},
          "output_type": "execute_result"
        },
        {
          "data": {
            "image/png": "[encoded data removed]",
            "text/plain": [
              "<Figure size 432x288 with 1 Axes>"
            ]
          },
          "metadata": {
            "needs_background": "light"
          },
          "output_type": "display_data"
        }
      ],
      "source": [
        "month_work.대소차이.hist(bins=60)"
      ]
    },
    {
      "cell_type": "code",
      "execution_count": null,
      "id": "f664b17a",
      "metadata": {
        "id": "f664b17a",
        "outputId": "34636135-f6b4-41b6-c1e0-e9ee9fae7125"
      },
      "outputs": [
        {
          "data": {
            "text/html": [
              "<div>\n",
              "<style scoped>\n",
              "    .dataframe tbody tr th:only-of-type {\n",
              "        vertical-align: middle;\n",
              "    }\n",
              "\n",
              "    .dataframe tbody tr th {\n",
              "        vertical-align: top;\n",
              "    }\n",
              "\n",
              "    .dataframe thead th {\n",
              "        text-align: right;\n",
              "    }\n",
              "</style>\n",
              "<table border=\"1\" class=\"dataframe\">\n",
              "  <thead>\n",
              "    <tr style=\"text-align: right;\">\n",
              "      <th></th>\n",
              "      <th>산업분류</th>\n",
              "      <th>5~9인</th>\n",
              "      <th>10~29인</th>\n",
              "      <th>30~99인</th>\n",
              "      <th>100~299인</th>\n",
              "      <th>300인이상</th>\n",
              "      <th>최대</th>\n",
              "      <th>최소</th>\n",
              "      <th>대소차이</th>\n",
              "    </tr>\n",
              "  </thead>\n",
              "  <tbody>\n",
              "    <tr>\n",
              "      <th>0</th>\n",
              "      <td>석탄, 원유 및 천연가스 광업</td>\n",
              "      <td>NaN</td>\n",
              "      <td>NaN</td>\n",
              "      <td>175.700000</td>\n",
              "      <td>NaN</td>\n",
              "      <td>NaN</td>\n",
              "      <td>175.700000</td>\n",
              "      <td>175.700000</td>\n",
              "      <td>0.000000</td>\n",
              "    </tr>\n",
              "    <tr>\n",
              "      <th>1</th>\n",
              "      <td>금속 광업</td>\n",
              "      <td>NaN</td>\n",
              "      <td>NaN</td>\n",
              "      <td>NaN</td>\n",
              "      <td>NaN</td>\n",
              "      <td>NaN</td>\n",
              "      <td>NaN</td>\n",
              "      <td>NaN</td>\n",
              "      <td>NaN</td>\n",
              "    </tr>\n",
              "    <tr>\n",
              "      <th>2</th>\n",
              "      <td>비금속광물 광업; 연료용 제외</td>\n",
              "      <td>181.800000</td>\n",
              "      <td>199.400000</td>\n",
              "      <td>200.166667</td>\n",
              "      <td>NaN</td>\n",
              "      <td>NaN</td>\n",
              "      <td>200.166667</td>\n",
              "      <td>181.800000</td>\n",
              "      <td>18.366667</td>\n",
              "    </tr>\n",
              "    <tr>\n",
              "      <th>3</th>\n",
              "      <td>광업 지원 서비스업</td>\n",
              "      <td>NaN</td>\n",
              "      <td>NaN</td>\n",
              "      <td>NaN</td>\n",
              "      <td>NaN</td>\n",
              "      <td>NaN</td>\n",
              "      <td>NaN</td>\n",
              "      <td>NaN</td>\n",
              "      <td>NaN</td>\n",
              "    </tr>\n",
              "    <tr>\n",
              "      <th>4</th>\n",
              "      <td>식료품 제조업</td>\n",
              "      <td>164.700000</td>\n",
              "      <td>169.300000</td>\n",
              "      <td>175.333333</td>\n",
              "      <td>192.433333</td>\n",
              "      <td>195.433333</td>\n",
              "      <td>195.433333</td>\n",
              "      <td>164.700000</td>\n",
              "      <td>30.733333</td>\n",
              "    </tr>\n",
              "    <tr>\n",
              "      <th>...</th>\n",
              "      <td>...</td>\n",
              "      <td>...</td>\n",
              "      <td>...</td>\n",
              "      <td>...</td>\n",
              "      <td>...</td>\n",
              "      <td>...</td>\n",
              "      <td>...</td>\n",
              "      <td>...</td>\n",
              "      <td>...</td>\n",
              "    </tr>\n",
              "    <tr>\n",
              "      <th>65</th>\n",
              "      <td>창작, 예술 및 여가관련 서비스업</td>\n",
              "      <td>157.800000</td>\n",
              "      <td>166.433333</td>\n",
              "      <td>161.666667</td>\n",
              "      <td>157.200000</td>\n",
              "      <td>161.933333</td>\n",
              "      <td>166.433333</td>\n",
              "      <td>157.200000</td>\n",
              "      <td>9.233333</td>\n",
              "    </tr>\n",
              "    <tr>\n",
              "      <th>66</th>\n",
              "      <td>스포츠 및 오락관련 서비스업</td>\n",
              "      <td>145.200000</td>\n",
              "      <td>162.866667</td>\n",
              "      <td>173.400000</td>\n",
              "      <td>161.266667</td>\n",
              "      <td>132.300000</td>\n",
              "      <td>173.400000</td>\n",
              "      <td>132.300000</td>\n",
              "      <td>41.100000</td>\n",
              "    </tr>\n",
              "    <tr>\n",
              "      <th>67</th>\n",
              "      <td>협회 및 단체</td>\n",
              "      <td>167.066667</td>\n",
              "      <td>160.633333</td>\n",
              "      <td>162.966667</td>\n",
              "      <td>162.166667</td>\n",
              "      <td>152.266667</td>\n",
              "      <td>167.066667</td>\n",
              "      <td>152.266667</td>\n",
              "      <td>14.800000</td>\n",
              "    </tr>\n",
              "    <tr>\n",
              "      <th>68</th>\n",
              "      <td>개인 및 소비용품 수리업</td>\n",
              "      <td>173.633333</td>\n",
              "      <td>175.066667</td>\n",
              "      <td>171.200000</td>\n",
              "      <td>161.233333</td>\n",
              "      <td>NaN</td>\n",
              "      <td>175.066667</td>\n",
              "      <td>161.233333</td>\n",
              "      <td>13.833333</td>\n",
              "    </tr>\n",
              "    <tr>\n",
              "      <th>69</th>\n",
              "      <td>기타 개인 서비스업</td>\n",
              "      <td>164.066667</td>\n",
              "      <td>171.100000</td>\n",
              "      <td>168.400000</td>\n",
              "      <td>167.533333</td>\n",
              "      <td>NaN</td>\n",
              "      <td>171.100000</td>\n",
              "      <td>164.066667</td>\n",
              "      <td>7.033333</td>\n",
              "    </tr>\n",
              "  </tbody>\n",
              "</table>\n",
              "<p>70 rows × 9 columns</p>\n",
              "</div>"
            ],
            "text/plain": [
              "                  산업분류        5~9인      10~29인      30~99인    100~299인  \\\n",
              "0     석탄, 원유 및 천연가스 광업         NaN         NaN  175.700000         NaN   \n",
              "1                금속 광업         NaN         NaN         NaN         NaN   \n",
              "2     비금속광물 광업; 연료용 제외  181.800000  199.400000  200.166667         NaN   \n",
              "3           광업 지원 서비스업         NaN         NaN         NaN         NaN   \n",
              "4              식료품 제조업  164.700000  169.300000  175.333333  192.433333   \n",
              "..                 ...         ...         ...         ...         ...   \n",
              "65  창작, 예술 및 여가관련 서비스업  157.800000  166.433333  161.666667  157.200000   \n",
              "66     스포츠 및 오락관련 서비스업  145.200000  162.866667  173.400000  161.266667   \n",
              "67             협회 및 단체  167.066667  160.633333  162.966667  162.166667   \n",
              "68       개인 및 소비용품 수리업  173.633333  175.066667  171.200000  161.233333   \n",
              "69          기타 개인 서비스업  164.066667  171.100000  168.400000  167.533333   \n",
              "\n",
              "        300인이상          최대          최소       대소차이  \n",
              "0          NaN  175.700000  175.700000   0.000000  \n",
              "1          NaN         NaN         NaN        NaN  \n",
              "2          NaN  200.166667  181.800000  18.366667  \n",
              "3          NaN         NaN         NaN        NaN  \n",
              "4   195.433333  195.433333  164.700000  30.733333  \n",
              "..         ...         ...         ...        ...  \n",
              "65  161.933333  166.433333  157.200000   9.233333  \n",
              "66  132.300000  173.400000  132.300000  41.100000  \n",
              "67  152.266667  167.066667  152.266667  14.800000  \n",
              "68         NaN  175.066667  161.233333  13.833333  \n",
              "69         NaN  171.100000  164.066667   7.033333  \n",
              "\n",
              "[70 rows x 9 columns]"
            ]
          },
          "execution_count": 73,
          "metadata": {},
          "output_type": "execute_result"
        }
      ],
      "source": [
        "month_work['중앙'] = "
      ]
    },
    {
      "cell_type": "markdown",
      "id": "e9fcc813",
      "metadata": {
        "id": "e9fcc813"
      },
      "source": [
        "# 6. 결론"
      ]
    },
    {
      "cell_type": "markdown",
      "id": "0ed08dba",
      "metadata": {
        "id": "0ed08dba"
      },
      "source": [
        "## 6-1. 다양한 시각화 종합"
      ]
    },
    {
      "cell_type": "markdown",
      "id": "b1fc2840",
      "metadata": {
        "id": "b1fc2840"
      },
      "source": [
        "### ☞ 설명 적기 --------------------------"
      ]
    },
    {
      "cell_type": "markdown",
      "id": "e63817c0",
      "metadata": {
        "id": "e63817c0"
      },
      "source": [
        "## 6-2. 종합 결론"
      ]
    },
    {
      "cell_type": "markdown",
      "id": "7ab4af94",
      "metadata": {
        "id": "7ab4af94"
      },
      "source": [
        "### ☞ 종합 결론 적기 ----------------------------"
      ]
    },
    {
      "cell_type": "code",
      "execution_count": null,
      "id": "3edf7425",
      "metadata": {
        "id": "3edf7425"
      },
      "outputs": [],
      "source": [
        ""
      ]
    }
  ],
  "metadata": {
    "kernelspec": {
      "display_name": "Python 3 (ipykernel)",
      "language": "python",
      "name": "python3"
    },
    "language_info": {
      "codemirror_mode": {
        "name": "ipython",
        "version": 3
      },
      "file_extension": ".py",
      "mimetype": "text/x-python",
      "name": "python",
      "nbconvert_exporter": "python",
      "pygments_lexer": "ipython3",
      "version": "3.9.7"
    },
    "colab": {
      "name": "오늘은 여기까지 .ipynb",
      "provenance": [],
      "include_colab_link": true
    }
  },
  "nbformat": 4,
  "nbformat_minor": 5
}